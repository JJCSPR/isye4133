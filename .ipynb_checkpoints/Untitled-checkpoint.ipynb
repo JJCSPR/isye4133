{
 "cells": [
  {
   "cell_type": "markdown",
   "metadata": {},
   "source": [
    "## Problem 1"
   ]
  },
  {
   "cell_type": "markdown",
   "metadata": {},
   "source": [
    "(10 points) A chemical company mines phosphate rock, collects in inventory poles i = 1, . . . , 8 and blends it to meet contracts with customers k = 1, . . . , 25. The critical measure of phosphate content in rock is its BPL (bone phosphate of lime). Piles corresspond to different average BPL content bi per ton, asset value ai per ton, contract net profit rik per ton, starting inventory hi and expected quantity qi to arrive from mines vary accordingly. Each contract includes a minimum of s_k and maximum sk number of tons to be shipped, along with a minimum of pk and a maximum of pk average BPL content. Managers want to schedule blending and sales to maximize total profit plus total inventory asset value. Formulate an LP formulation for this planning problem."
   ]
  },
  {
   "cell_type": "code",
   "execution_count": null,
   "metadata": {},
   "outputs": [],
   "source": []
  }
 ],
 "metadata": {
  "kernelspec": {
   "display_name": "Python 3",
   "language": "python",
   "name": "python3"
  },
  "language_info": {
   "codemirror_mode": {
    "name": "ipython",
    "version": 3
   },
   "file_extension": ".py",
   "mimetype": "text/x-python",
   "name": "python",
   "nbconvert_exporter": "python",
   "pygments_lexer": "ipython3",
   "version": "3.7.3"
  }
 },
 "nbformat": 4,
 "nbformat_minor": 2
}

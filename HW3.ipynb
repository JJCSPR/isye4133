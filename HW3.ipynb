{
 "cells": [
  {
   "cell_type": "markdown",
   "metadata": {},
   "source": [
    "## Problem 3"
   ]
  },
  {
   "cell_type": "markdown",
   "metadata": {},
   "source": [
    "(10 points) The princess wedding ring can be made from four types of gold $1,2,3$ or $4$ with the following amounts of milligrams of impurity per gram.\n",
    "\n",
    "|         Type | 1 | 2 | 3 | 4 |\n",
    "|-------------:|---|---|---|---|\n",
    "| mg of lead   | 1 | 2 | 2 | 1 |\n",
    "| mg of cobalt | 0 | 1 | 1 | 2 |\n",
    "| value        | 1 | 2 | 3 | 2 |"
   ]
  },
  {
   "cell_type": "markdown",
   "metadata": {},
   "source": [
    "**(a)** Set up a linear program that finds the most valuable ring that can be made containing at most $6mg$ of lead and $10mg$ of cobalt."
   ]
  },
  {
   "cell_type": "markdown",
   "metadata": {},
   "source": [
    "Maximize $\\sum_{i=1}^{4} V_i*X_i$\n",
    "\n",
    "such that\n",
    "\n",
    "$\\sum_{i=1}^{4} L_i*X_i \\leq 6$\n",
    "\n",
    "$\\sum_{i=1}^{4} C_i*X_i \\leq 10$\n",
    "\n",
    "$ X_i \\geq 0 \\forall i \\in \\{1,...,4\\}$, where $X_i$ is the amount of type $i$ gold being used to make the ring.\n",
    "\n",
    "\n"
   ]
  },
  {
   "cell_type": "markdown",
   "metadata": {},
   "source": [
    "**(b)** Put the linear program in standard form."
   ]
  },
  {
   "cell_type": "markdown",
   "metadata": {},
   "source": [
    "Maximize $\\sum_{i=1}^{4} V_i*X_i$\n",
    "\n",
    "such that\n",
    "\n",
    "$\\sum_{i=1}^{4} L_i*X_i + s_1 = 6$\n",
    "\n",
    "$\\sum_{i=1}^{4} C_i*X_i + s_2 = 10$\n",
    "\n",
    "$ X_i \\geq 0 \\forall i \\in \\{1,...,4\\}$, where $X_i$ is the amount of type $i$ gold being used to make the ring.\n",
    "\n",
    "$s_1, s_2 \\geq 0 $\n",
    "\n",
    "and where \n",
    "\n",
    "$V_i \\in \\{1,2,3,4\\}$\\\n",
    "$L_i \\in \\{1,2,2,1\\}$\\\n",
    "$C_i \\in \\{0,1,1,2\\}$"
   ]
  },
  {
   "cell_type": "markdown",
   "metadata": {},
   "source": [
    "**(c)** Solve the linear program using the simplex method by hand and by Gurobi."
   ]
  },
  {
   "cell_type": "markdown",
   "metadata": {},
   "source": [
    "By hand:\n",
    "    \n",
    "$$\\begin{bmatrix} \n",
    "1 & 2 & 1 \\\\ \n",
    "3 & 0 & 1 \\\\ \n",
    "0 & 2 & 4 \\end{bmatrix}$$"
   ]
  }
 ],
 "metadata": {
  "kernelspec": {
   "display_name": "Python 3",
   "language": "python",
   "name": "python3"
  },
  "language_info": {
   "codemirror_mode": {
    "name": "ipython",
    "version": 3
   },
   "file_extension": ".py",
   "mimetype": "text/x-python",
   "name": "python",
   "nbconvert_exporter": "python",
   "pygments_lexer": "ipython3",
   "version": "3.7.3"
  }
 },
 "nbformat": 4,
 "nbformat_minor": 2
}

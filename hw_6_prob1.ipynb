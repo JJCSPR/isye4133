{
 "cells": [
  {
   "cell_type": "code",
   "execution_count": 159,
   "metadata": {},
   "outputs": [
    {
     "name": "stdout",
     "output_type": "stream",
     "text": [
      "x[0,0] 1\n",
      "x[0,1] 0\n",
      "x[0,2] 0\n",
      "x[0,3] 0\n",
      "x[0,4] 0\n",
      "x[1,0] 0\n",
      "x[1,1] 1\n",
      "x[1,2] 0\n",
      "x[1,3] 0\n",
      "x[1,4] 0\n",
      "x[2,0] 0\n",
      "x[2,1] 0\n",
      "x[2,2] 1\n",
      "x[2,3] 0\n",
      "x[2,4] 0\n",
      "x[3,0] 0\n",
      "x[3,1] 0\n",
      "x[3,2] 0\n",
      "x[3,3] 1\n",
      "x[3,4] 0\n",
      "x[4,0] 0\n",
      "x[4,1] 0\n",
      "x[4,2] 0\n",
      "x[4,3] 0\n",
      "x[4,4] 1\n",
      "y[0] 0\n",
      "y[1] 0\n",
      "y[2] 0\n",
      "y[3] 0\n",
      "y[4] 0\n",
      "Obj: 44\n"
     ]
    }
   ],
   "source": [
    "from gurobipy import *\n",
    "import numpy as np\n",
    "\n",
    "try:\n",
    "    \n",
    "    ## Define ranges\n",
    "    age = 5 # define i\n",
    "    years = 5 #define j\n",
    "    \n",
    "    ## Package ranges into one variable\n",
    "    dim = [age,years] \n",
    "    \n",
    "\n",
    "    ## Create my model\n",
    "    m = Model('prob1')\n",
    "    m.params.outputFlag = 0\n",
    "    \n",
    "    ## Create my variables\n",
    "    x = m.addVars(age,years, lb=0.0, vtype= GRB.BINARY, name=\"x\") # machine of age i is operated in year j\n",
    "    y = m.addVars(years, lb=0.0, vtype= GRB.BINARY, name=\"y\") # machine of age i is sold in year j\n",
    "\n",
    "    ## Define data\n",
    "    costs = [2,4,5,9,12] #(in range j)\n",
    "    gains = [0,7,6,2,1] #(in range j)     \n",
    "    \n",
    "    ## Create objective function expression\n",
    "    \n",
    "    init_cost = 12\n",
    "    maint_costs = quicksum(costs[j]*x[i,j] for i in range(age) for j in range(years))\n",
    "    buy_sell_costs = quicksum((12+costs[j]-gains[j])*y[j] for j in range(years))\n",
    "    expression = init_cost + maint_costs + buy_sell_costs\n",
    "    \n",
    "    ## CONSTRAINTS\n",
    "\n",
    "    #No machines can be sold when they are of age 0\n",
    "    m.addConstr(y[0] == 0)\n",
    "    \n",
    "    #One machine must be running at every time j\n",
    "    m.addConstrs(\n",
    "        (quicksum(x[i,j] for i in range(age))\n",
    "            == 1\n",
    "        for j in range(years)))\n",
    "    \n",
    "    # Sets constraint st sum of y must be equal to number of new machines\n",
    "    m.addConstr(\n",
    "        (quicksum(y[j] for j in range(years)))\n",
    "        == \n",
    "        (quicksum(x[0,j] for j in range(1,years)))\n",
    "    )\n",
    "    \n",
    "    # Zero out x's if i>j\n",
    "    m.addConstrs(x[i,j] == 0\n",
    "                 for i in range(age) \n",
    "                 for j in range(years)\n",
    "                 if i > j )  \n",
    "    \n",
    "    # sum of old i's must be greater than sum of next i's\n",
    "#     m.addConstr(quicksum(x[0,j] for j in range(years)) >= quicksum(x[1,j] for j in range(years)))\n",
    "#     m.addConstr(quicksum(x[1,j] for j in range(years)) >= quicksum(x[2,j] for j in range(years)))\n",
    "#     m.addConstr((quicksum(x[2,j] for j in range(years))) >= (quicksum(x[3,j] for j in range(years))))\n",
    "#     m.addConstr((quicksum(x[3,j] for j in range(years))) >= (quicksum(x[4,j] for j in range(years))))\n",
    "\n",
    "    \n",
    "    \n",
    "    # Set an objective function\n",
    "    m.setObjective(expression, GRB.MINIMIZE)\n",
    "\n",
    "    # Optimize model\n",
    "    m.optimize()\n",
    "\n",
    "    for v in m.getVars():\n",
    "        print('%s %g' % (v.varName, v.x))\n",
    "\n",
    "    print('Obj: %g' % m.objVal)\n",
    "\n",
    "except GurobiError as e:\n",
    "    print('Error code ' + str(e.errno) + \": \" + str(e))\n",
    "\n",
    "except AttributeError:\n",
    "    print('Encountered an attribute error')\n",
    "                "
   ]
  },
  {
   "cell_type": "code",
   "execution_count": null,
   "metadata": {},
   "outputs": [],
   "source": []
  },
  {
   "cell_type": "code",
   "execution_count": 119,
   "metadata": {},
   "outputs": [
    {
     "name": "stdout",
     "output_type": "stream",
     "text": [
      "<gurobi.Var x[0,0] (value 0.0)>\n",
      "<gurobi.Var x[0,1] (value 0.0)>\n",
      "<gurobi.Var x[0,2] (value 0.0)>\n",
      "<gurobi.Var x[0,3] (value 1.0)>\n",
      "<gurobi.Var x[0,4] (value 0.0)>\n",
      "<gurobi.Var x[1,0] (value 0.0)>\n",
      "<gurobi.Var x[1,1] (value 0.0)>\n",
      "<gurobi.Var x[1,2] (value 0.0)>\n",
      "<gurobi.Var x[1,3] (value 0.0)>\n",
      "<gurobi.Var x[1,4] (value 1.0)>\n",
      "<gurobi.Var x[2,0] (value 0.0)>\n",
      "<gurobi.Var x[2,1] (value 1.0)>\n",
      "<gurobi.Var x[2,2] (value 0.0)>\n",
      "<gurobi.Var x[2,3] (value 0.0)>\n",
      "<gurobi.Var x[2,4] (value 0.0)>\n",
      "<gurobi.Var x[3,0] (value 0.0)>\n",
      "<gurobi.Var x[3,1] (value 0.0)>\n",
      "<gurobi.Var x[3,2] (value 1.0)>\n",
      "<gurobi.Var x[3,3] (value 0.0)>\n",
      "<gurobi.Var x[3,4] (value 0.0)>\n",
      "<gurobi.Var x[4,0] (value 1.0)>\n",
      "<gurobi.Var x[4,1] (value 0.0)>\n",
      "<gurobi.Var x[4,2] (value 0.0)>\n",
      "<gurobi.Var x[4,3] (value 0.0)>\n",
      "<gurobi.Var x[4,4] (value 0.0)>\n"
     ]
    }
   ],
   "source": [
    "vars = m.getVars()\n",
    "    \n",
    "for index in range(age*years):  \n",
    "    print(vars[index])\n",
    "# for v in m.getVars():\n",
    "#     print(v)"
   ]
  },
  {
   "cell_type": "code",
   "execution_count": 114,
   "metadata": {},
   "outputs": [
    {
     "data": {
      "text/plain": [
       "<gurobi.Var x[0,0] (value 0.0)>"
      ]
     },
     "execution_count": 114,
     "metadata": {},
     "output_type": "execute_result"
    }
   ],
   "source": [
    "vars[0]"
   ]
  },
  {
   "cell_type": "code",
   "execution_count": 132,
   "metadata": {},
   "outputs": [
    {
     "name": "stdout",
     "output_type": "stream",
     "text": [
      "[(0, 0), (0, 1), (0, 2), (0, 3), (0, 4), (1, 1), (1, 2), (1, 3), (1, 4), (2, 2), (2, 3), (2, 4), (3, 3), (3, 4), (4, 4)]\n"
     ]
    }
   ],
   "source": [
    "  \n",
    "subset = [ (i,j) for i in range(age) for j in range(years) if i <= j ]\n",
    "print(z)"
   ]
  },
  {
   "cell_type": "code",
   "execution_count": null,
   "metadata": {},
   "outputs": [],
   "source": []
  },
  {
   "cell_type": "code",
   "execution_count": null,
   "metadata": {},
   "outputs": [],
   "source": []
  },
  {
   "cell_type": "code",
   "execution_count": 83,
   "metadata": {},
   "outputs": [
    {
     "data": {
      "text/plain": [
       "range(0, 5)"
      ]
     },
     "execution_count": 83,
     "metadata": {},
     "output_type": "execute_result"
    }
   ],
   "source": [
    "range(dim[1])"
   ]
  },
  {
   "cell_type": "code",
   "execution_count": null,
   "metadata": {},
   "outputs": [],
   "source": []
  }
 ],
 "metadata": {
  "kernelspec": {
   "display_name": "Python 3",
   "language": "python",
   "name": "python3"
  },
  "language_info": {
   "codemirror_mode": {
    "name": "ipython",
    "version": 3
   },
   "file_extension": ".py",
   "mimetype": "text/x-python",
   "name": "python",
   "nbconvert_exporter": "python",
   "pygments_lexer": "ipython3",
   "version": "3.7.3"
  }
 },
 "nbformat": 4,
 "nbformat_minor": 2
}
